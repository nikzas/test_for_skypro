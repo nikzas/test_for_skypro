{
 "cells": [
  {
   "cell_type": "code",
   "execution_count": null,
   "metadata": {
    "pycharm": {
     "name": "#%%\n"
    }
   },
   "outputs": [],
   "source": []
  },
  {
   "cell_type": "code",
   "execution_count": 4,
   "metadata": {
    "pycharm": {
     "name": "#%%\n"
    }
   },
   "outputs": [
    {
     "name": "stdout",
     "output_type": "stream",
     "text": [
      "Using matplotlib backend: TkAgg\n"
     ]
    },
    {
     "name": "stderr",
     "output_type": "stream",
     "text": [
      "Traceback (most recent call last):\n",
      "  File \"D:\\pythonProject\\venv\\lib\\site-packages\\matplotlib\\cbook\\__init__.py\", line 307, in process\n",
      "    func(*args, **kwargs)\n",
      "  File \"D:\\pythonProject\\venv\\lib\\site-packages\\matplotlib\\backend_bases.py\", line 3290, in <lambda>\n",
      "    \"close_event\", lambda e: manager.destroy())\n",
      "  File \"D:\\pythonProject\\venv\\lib\\site-packages\\matplotlib\\backends\\_backend_tk.py\", line 531, in destroy\n",
      "    self._window_dpi.trace_remove('write', self._window_dpi_cbname)\n",
      "  File \"D:\\PyCharm 2022.1.3\\3.10\\lib\\tkinter\\__init__.py\", line 455, in trace_remove\n",
      "    self._tk.deletecommand(cbname)\n",
      "_tkinter.TclError: can't delete Tcl command\n"
     ]
    }
   ],
   "source": [
    "import pandas as pd\n",
    "titanic = pd.read_csv('https://vincentarelbundock.github.io/' +\n",
    "                      'Rdatasets/csv/carData/TitanicSurvival.csv')\n",
    "#pd.set_option('precision', 2)\n",
    "titanic.columns = ['name', 'survived', 'sex', 'age', 'class']\n",
    "\n",
    "%matplotlib\n",
    "histogram = titanic.hist()"
   ]
  },
  {
   "cell_type": "code",
   "execution_count": null,
   "metadata": {
    "pycharm": {
     "name": "#%%\n"
    }
   },
   "outputs": [],
   "source": []
  }
 ],
 "metadata": {
  "kernelspec": {
   "display_name": "Python 3 (ipykernel)",
   "language": "python",
   "name": "python3"
  },
  "language_info": {
   "codemirror_mode": {
    "name": "ipython",
    "version": 3
   },
   "file_extension": ".py",
   "mimetype": "text/x-python",
   "name": "python",
   "nbconvert_exporter": "python",
   "pygments_lexer": "ipython3",
   "version": "3.10.7"
  }
 },
 "nbformat": 4,
 "nbformat_minor": 1
}
